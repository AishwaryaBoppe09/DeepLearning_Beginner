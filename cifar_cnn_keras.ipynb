{
 "cells": [
  {
   "cell_type": "markdown",
   "id": "4fef2138",
   "metadata": {},
   "source": [
    "## Load libraries\n"
   ]
  },
  {
   "cell_type": "code",
   "execution_count": 29,
   "id": "1febca30",
   "metadata": {},
   "outputs": [],
   "source": [
    "from keras.models import Sequential\n",
    "from keras.layers import Dense, Flatten, Conv2D, MaxPooling2D\n",
    "from keras.datasets import cifar10\n",
    "from keras.utils import to_categorical\n",
    "from keras.optimizers import Adam\n",
    "import matplotlib.pyplot as plt\n"
   ]
  },
  {
   "cell_type": "markdown",
   "id": "9b5a17b0",
   "metadata": {},
   "source": [
    "## load the data "
   ]
  },
  {
   "cell_type": "code",
   "execution_count": 22,
   "id": "31f84681",
   "metadata": {},
   "outputs": [],
   "source": [
    "(X_train,y_train),(X_test,y_test) = cifar10.load_data()\n"
   ]
  },
  {
   "cell_type": "markdown",
   "id": "c1156af4",
   "metadata": {},
   "source": [
    "## Preprocessing"
   ]
  },
  {
   "cell_type": "code",
   "execution_count": null,
   "id": "b92b89d4",
   "metadata": {},
   "outputs": [
    {
     "name": "stdout",
     "output_type": "stream",
     "text": [
      "[6]\n",
      "[0. 0. 0. 0. 0. 0. 1. 0. 0. 0.]\n"
     ]
    }
   ],
   "source": [
    "# print(y_train[0])\n",
    "y_train = to_categorical(y_train)\n",
    "\n",
    "y_test = to_categorical(y_test)\n",
    "# print(y_train[0])\n"
   ]
  },
  {
   "cell_type": "markdown",
   "id": "d5bf94f6",
   "metadata": {},
   "source": [
    "## Build Architecture"
   ]
  },
  {
   "cell_type": "code",
   "execution_count": 33,
   "id": "51769505",
   "metadata": {},
   "outputs": [
    {
     "name": "stderr",
     "output_type": "stream",
     "text": [
      "d:\\22EG107C44\\venv\\Lib\\site-packages\\keras\\src\\layers\\reshaping\\flatten.py:37: UserWarning: Do not pass an `input_shape`/`input_dim` argument to a layer. When using Sequential models, prefer using an `Input(shape)` object as the first layer in the model instead.\n",
      "  super().__init__(**kwargs)\n"
     ]
    }
   ],
   "source": [
    "model = Sequential()\n",
    "model.add(Conv2D(8,(3,3),activation = 'relu'))\n",
    "model.add(MaxPooling2D((2,2)))\n",
    "model.add(Flatten(input_shape=(32,32,3)))\n",
    "model.add(Dense(units = 128, activation =  'relu'))\n",
    "model.add(Dense(units = 10, activation = 'softmax'))\n"
   ]
  },
  {
   "cell_type": "markdown",
   "id": "ce0dd8ac",
   "metadata": {},
   "source": [
    "## Compile"
   ]
  },
  {
   "cell_type": "code",
   "execution_count": 34,
   "id": "1771b678",
   "metadata": {},
   "outputs": [],
   "source": [
    "model.compile(optimizer='adam', loss = 'categorical_crossentropy', metrics=['accuracy'])\n"
   ]
  },
  {
   "cell_type": "markdown",
   "id": "d9ad71c5",
   "metadata": {},
   "source": [
    "## Train"
   ]
  },
  {
   "cell_type": "code",
   "execution_count": 39,
   "id": "ccd06144",
   "metadata": {},
   "outputs": [
    {
     "name": "stdout",
     "output_type": "stream",
     "text": [
      "Epoch 1/32\n",
      "\u001b[1m782/782\u001b[0m \u001b[32m━━━━━━━━━━━━━━━━━━━━\u001b[0m\u001b[37m\u001b[0m \u001b[1m12s\u001b[0m 16ms/step - accuracy: 0.4039 - loss: 1.6004 - val_accuracy: 0.4424 - val_loss: 1.5444\n",
      "Epoch 2/32\n",
      "\u001b[1m782/782\u001b[0m \u001b[32m━━━━━━━━━━━━━━━━━━━━\u001b[0m\u001b[37m\u001b[0m \u001b[1m20s\u001b[0m 15ms/step - accuracy: 0.4582 - loss: 1.4758 - val_accuracy: 0.4419 - val_loss: 1.5023\n",
      "Epoch 3/32\n",
      "\u001b[1m782/782\u001b[0m \u001b[32m━━━━━━━━━━━━━━━━━━━━\u001b[0m\u001b[37m\u001b[0m \u001b[1m11s\u001b[0m 14ms/step - accuracy: 0.4959 - loss: 1.3798 - val_accuracy: 0.4838 - val_loss: 1.4491\n",
      "Epoch 4/32\n",
      "\u001b[1m782/782\u001b[0m \u001b[32m━━━━━━━━━━━━━━━━━━━━\u001b[0m\u001b[37m\u001b[0m \u001b[1m19s\u001b[0m 12ms/step - accuracy: 0.5240 - loss: 1.3240 - val_accuracy: 0.5155 - val_loss: 1.3634\n",
      "Epoch 5/32\n",
      "\u001b[1m782/782\u001b[0m \u001b[32m━━━━━━━━━━━━━━━━━━━━\u001b[0m\u001b[37m\u001b[0m \u001b[1m9s\u001b[0m 12ms/step - accuracy: 0.5428 - loss: 1.2826 - val_accuracy: 0.5191 - val_loss: 1.3556\n",
      "Epoch 6/32\n",
      "\u001b[1m782/782\u001b[0m \u001b[32m━━━━━━━━━━━━━━━━━━━━\u001b[0m\u001b[37m\u001b[0m \u001b[1m14s\u001b[0m 16ms/step - accuracy: 0.5541 - loss: 1.2421 - val_accuracy: 0.5321 - val_loss: 1.3171\n",
      "Epoch 7/32\n",
      "\u001b[1m782/782\u001b[0m \u001b[32m━━━━━━━━━━━━━━━━━━━━\u001b[0m\u001b[37m\u001b[0m \u001b[1m16s\u001b[0m 11ms/step - accuracy: 0.5638 - loss: 1.2301 - val_accuracy: 0.5170 - val_loss: 1.3513\n",
      "Epoch 8/32\n",
      "\u001b[1m782/782\u001b[0m \u001b[32m━━━━━━━━━━━━━━━━━━━━\u001b[0m\u001b[37m\u001b[0m \u001b[1m11s\u001b[0m 15ms/step - accuracy: 0.5684 - loss: 1.2105 - val_accuracy: 0.5403 - val_loss: 1.3266\n",
      "Epoch 9/32\n",
      "\u001b[1m782/782\u001b[0m \u001b[32m━━━━━━━━━━━━━━━━━━━━\u001b[0m\u001b[37m\u001b[0m \u001b[1m14s\u001b[0m 18ms/step - accuracy: 0.5795 - loss: 1.1870 - val_accuracy: 0.5037 - val_loss: 1.3938\n",
      "Epoch 10/32\n",
      "\u001b[1m782/782\u001b[0m \u001b[32m━━━━━━━━━━━━━━━━━━━━\u001b[0m\u001b[37m\u001b[0m \u001b[1m23s\u001b[0m 20ms/step - accuracy: 0.5918 - loss: 1.1614 - val_accuracy: 0.5207 - val_loss: 1.4234\n",
      "Epoch 11/32\n",
      "\u001b[1m782/782\u001b[0m \u001b[32m━━━━━━━━━━━━━━━━━━━━\u001b[0m\u001b[37m\u001b[0m \u001b[1m11s\u001b[0m 14ms/step - accuracy: 0.5926 - loss: 1.1561 - val_accuracy: 0.5459 - val_loss: 1.3168\n",
      "Epoch 12/32\n",
      "\u001b[1m782/782\u001b[0m \u001b[32m━━━━━━━━━━━━━━━━━━━━\u001b[0m\u001b[37m\u001b[0m \u001b[1m11s\u001b[0m 14ms/step - accuracy: 0.6024 - loss: 1.1304 - val_accuracy: 0.5489 - val_loss: 1.3026\n",
      "Epoch 13/32\n",
      "\u001b[1m782/782\u001b[0m \u001b[32m━━━━━━━━━━━━━━━━━━━━\u001b[0m\u001b[37m\u001b[0m \u001b[1m12s\u001b[0m 15ms/step - accuracy: 0.6057 - loss: 1.1263 - val_accuracy: 0.5530 - val_loss: 1.3396\n",
      "Epoch 14/32\n",
      "\u001b[1m782/782\u001b[0m \u001b[32m━━━━━━━━━━━━━━━━━━━━\u001b[0m\u001b[37m\u001b[0m \u001b[1m19s\u001b[0m 13ms/step - accuracy: 0.6111 - loss: 1.1125 - val_accuracy: 0.5494 - val_loss: 1.3397\n",
      "Epoch 15/32\n",
      "\u001b[1m782/782\u001b[0m \u001b[32m━━━━━━━━━━━━━━━━━━━━\u001b[0m\u001b[37m\u001b[0m \u001b[1m10s\u001b[0m 13ms/step - accuracy: 0.6170 - loss: 1.0954 - val_accuracy: 0.5453 - val_loss: 1.3143\n",
      "Epoch 16/32\n",
      "\u001b[1m782/782\u001b[0m \u001b[32m━━━━━━━━━━━━━━━━━━━━\u001b[0m\u001b[37m\u001b[0m \u001b[1m13s\u001b[0m 16ms/step - accuracy: 0.6147 - loss: 1.1020 - val_accuracy: 0.5578 - val_loss: 1.3009\n",
      "Epoch 17/32\n",
      "\u001b[1m782/782\u001b[0m \u001b[32m━━━━━━━━━━━━━━━━━━━━\u001b[0m\u001b[37m\u001b[0m \u001b[1m17s\u001b[0m 12ms/step - accuracy: 0.6299 - loss: 1.0617 - val_accuracy: 0.5511 - val_loss: 1.3335\n",
      "Epoch 18/32\n",
      "\u001b[1m782/782\u001b[0m \u001b[32m━━━━━━━━━━━━━━━━━━━━\u001b[0m\u001b[37m\u001b[0m \u001b[1m10s\u001b[0m 12ms/step - accuracy: 0.6291 - loss: 1.0670 - val_accuracy: 0.5638 - val_loss: 1.3126\n",
      "Epoch 19/32\n",
      "\u001b[1m782/782\u001b[0m \u001b[32m━━━━━━━━━━━━━━━━━━━━\u001b[0m\u001b[37m\u001b[0m \u001b[1m11s\u001b[0m 13ms/step - accuracy: 0.6337 - loss: 1.0472 - val_accuracy: 0.5618 - val_loss: 1.3130\n",
      "Epoch 20/32\n",
      "\u001b[1m782/782\u001b[0m \u001b[32m━━━━━━━━━━━━━━━━━━━━\u001b[0m\u001b[37m\u001b[0m \u001b[1m10s\u001b[0m 13ms/step - accuracy: 0.6347 - loss: 1.0453 - val_accuracy: 0.5585 - val_loss: 1.3100\n",
      "Epoch 21/32\n",
      "\u001b[1m782/782\u001b[0m \u001b[32m━━━━━━━━━━━━━━━━━━━━\u001b[0m\u001b[37m\u001b[0m \u001b[1m12s\u001b[0m 15ms/step - accuracy: 0.6403 - loss: 1.0339 - val_accuracy: 0.5600 - val_loss: 1.3293\n",
      "Epoch 22/32\n",
      "\u001b[1m782/782\u001b[0m \u001b[32m━━━━━━━━━━━━━━━━━━━━\u001b[0m\u001b[37m\u001b[0m \u001b[1m16s\u001b[0m 20ms/step - accuracy: 0.6439 - loss: 1.0279 - val_accuracy: 0.5572 - val_loss: 1.3330\n",
      "Epoch 23/32\n",
      "\u001b[1m782/782\u001b[0m \u001b[32m━━━━━━━━━━━━━━━━━━━━\u001b[0m\u001b[37m\u001b[0m \u001b[1m8s\u001b[0m 10ms/step - accuracy: 0.6506 - loss: 1.0168 - val_accuracy: 0.5582 - val_loss: 1.3299\n",
      "Epoch 24/32\n",
      "\u001b[1m782/782\u001b[0m \u001b[32m━━━━━━━━━━━━━━━━━━━━\u001b[0m\u001b[37m\u001b[0m \u001b[1m8s\u001b[0m 11ms/step - accuracy: 0.6493 - loss: 1.0054 - val_accuracy: 0.5519 - val_loss: 1.3610\n",
      "Epoch 25/32\n",
      "\u001b[1m782/782\u001b[0m \u001b[32m━━━━━━━━━━━━━━━━━━━━\u001b[0m\u001b[37m\u001b[0m \u001b[1m8s\u001b[0m 10ms/step - accuracy: 0.6500 - loss: 1.0135 - val_accuracy: 0.5373 - val_loss: 1.4099\n",
      "Epoch 26/32\n",
      "\u001b[1m782/782\u001b[0m \u001b[32m━━━━━━━━━━━━━━━━━━━━\u001b[0m\u001b[37m\u001b[0m \u001b[1m8s\u001b[0m 10ms/step - accuracy: 0.6528 - loss: 1.0016 - val_accuracy: 0.5516 - val_loss: 1.3994\n",
      "Epoch 27/32\n",
      "\u001b[1m782/782\u001b[0m \u001b[32m━━━━━━━━━━━━━━━━━━━━\u001b[0m\u001b[37m\u001b[0m \u001b[1m9s\u001b[0m 11ms/step - accuracy: 0.6525 - loss: 1.0098 - val_accuracy: 0.5618 - val_loss: 1.3671\n",
      "Epoch 28/32\n",
      "\u001b[1m782/782\u001b[0m \u001b[32m━━━━━━━━━━━━━━━━━━━━\u001b[0m\u001b[37m\u001b[0m \u001b[1m8s\u001b[0m 10ms/step - accuracy: 0.6554 - loss: 0.9984 - val_accuracy: 0.5492 - val_loss: 1.3847\n",
      "Epoch 29/32\n",
      "\u001b[1m782/782\u001b[0m \u001b[32m━━━━━━━━━━━━━━━━━━━━\u001b[0m\u001b[37m\u001b[0m \u001b[1m8s\u001b[0m 10ms/step - accuracy: 0.6545 - loss: 0.9935 - val_accuracy: 0.5484 - val_loss: 1.3870\n",
      "Epoch 30/32\n",
      "\u001b[1m782/782\u001b[0m \u001b[32m━━━━━━━━━━━━━━━━━━━━\u001b[0m\u001b[37m\u001b[0m \u001b[1m8s\u001b[0m 10ms/step - accuracy: 0.6585 - loss: 0.9879 - val_accuracy: 0.5564 - val_loss: 1.4049\n",
      "Epoch 31/32\n",
      "\u001b[1m782/782\u001b[0m \u001b[32m━━━━━━━━━━━━━━━━━━━━\u001b[0m\u001b[37m\u001b[0m \u001b[1m9s\u001b[0m 11ms/step - accuracy: 0.6637 - loss: 0.9764 - val_accuracy: 0.5619 - val_loss: 1.3727\n",
      "Epoch 32/32\n",
      "\u001b[1m782/782\u001b[0m \u001b[32m━━━━━━━━━━━━━━━━━━━━\u001b[0m\u001b[37m\u001b[0m \u001b[1m9s\u001b[0m 11ms/step - accuracy: 0.6625 - loss: 0.9668 - val_accuracy: 0.5629 - val_loss: 1.3650\n"
     ]
    }
   ],
   "source": [
    "result = model.fit(X_train,y_train,epochs=32,batch_size=64, validation_data= (X_test,y_test))"
   ]
  },
  {
   "cell_type": "markdown",
   "id": "fd4b170b",
   "metadata": {},
   "source": [
    "## Evaluate"
   ]
  },
  {
   "cell_type": "code",
   "execution_count": 40,
   "id": "998645dd",
   "metadata": {},
   "outputs": [
    {
     "name": "stdout",
     "output_type": "stream",
     "text": [
      "\u001b[1m313/313\u001b[0m \u001b[32m━━━━━━━━━━━━━━━━━━━━\u001b[0m\u001b[37m\u001b[0m \u001b[1m2s\u001b[0m 6ms/step - accuracy: 0.5694 - loss: 1.3448\n",
      "test accuracy:0.5629000067710876, test loss: 1.365007996559143 \n"
     ]
    }
   ],
   "source": [
    "loss , accuracy = model.evaluate(X_test,y_test)\n",
    "print(f\"test accuracy:{accuracy}, test loss: {loss} \")"
   ]
  },
  {
   "cell_type": "markdown",
   "id": "0948ae4d",
   "metadata": {},
   "source": [
    "## Visualization"
   ]
  },
  {
   "cell_type": "code",
   "execution_count": 42,
   "id": "3ef8f3f0",
   "metadata": {},
   "outputs": [
    {
     "data": {
      "image/png": "[encoded data removed]",
      "text/plain": [
       "<Figure size 640x480 with 1 Axes>"
      ]
     },
     "metadata": {},
     "output_type": "display_data"
    }
   ],
   "source": [
    "plt.plot(result.history['accuracy'],label='Train accuracy', color='blue')\n",
    "plt.plot(result.history['val_accuracy'], label='test accuracy',color ='red')\n",
    "plt.legend()\n",
    "plt.title(\"Epoch Vs Accuracy on train and test data\")\n",
    "plt.show()"
   ]
  },
  {
   "cell_type": "code",
   "execution_count": 44,
   "id": "401651c3",
   "metadata": {},
   "outputs": [
    {
     "data": {
      "image/png": "[encoded data removed]",
      "text/plain": [
       "<Figure size 640x480 with 1 Axes>"
      ]
     },
     "metadata": {},
     "output_type": "display_data"
    }
   ],
   "source": [
    "plt.plot(result.history['loss'],label='Train loss', color='blue')\n",
    "plt.plot(result.history['val_loss'], label='test loss',color='red')\n",
    "plt.legend()\n",
    "plt.title(\"Epoch Vs Loss on train and test data\")\n",
    "plt.show()"
   ]
  },
  {
   "cell_type": "markdown",
   "id": "98e8f83c",
   "metadata": {},
   "source": [
    "## Experiment 2"
   ]
  },
  {
   "cell_type": "markdown",
   "id": "40fd1310",
   "metadata": {},
   "source": [
    "Analysis :\n",
    "    Train accuracy is improved over the epochs\n",
    "    so, continue training by increasing no of epochs from 32 to 100\n",
    "    "
   ]
  },
  {
   "cell_type": "markdown",
   "id": "10a0f00f",
   "metadata": {},
   "source": [
    "Hyperparameters : \n",
    "    epochs : 100\n",
    "    \n"
   ]
  },
  {
   "cell_type": "code",
   "execution_count": 46,
   "id": "f95a5f51",
   "metadata": {},
   "outputs": [
    {
     "name": "stdout",
     "output_type": "stream",
     "text": [
      "Epoch 1/200\n",
      "\u001b[1m782/782\u001b[0m \u001b[32m━━━━━━━━━━━━━━━━━━━━\u001b[0m\u001b[37m\u001b[0m \u001b[1m18s\u001b[0m 20ms/step - accuracy: 0.1897 - loss: 10.9586 - val_accuracy: 0.3353 - val_loss: 1.9151\n",
      "Epoch 2/200\n",
      "\u001b[1m782/782\u001b[0m \u001b[32m━━━━━━━━━━━━━━━━━━━━\u001b[0m\u001b[37m\u001b[0m \u001b[1m13s\u001b[0m 16ms/step - accuracy: 0.3785 - loss: 1.7379 - val_accuracy: 0.4305 - val_loss: 1.5748\n",
      "Epoch 3/200\n",
      "\u001b[1m782/782\u001b[0m \u001b[32m━━━━━━━━━━━━━━━━━━━━\u001b[0m\u001b[37m\u001b[0m \u001b[1m17s\u001b[0m 12ms/step - accuracy: 0.4722 - loss: 1.4691 - val_accuracy: 0.4795 - val_loss: 1.5023\n",
      "Epoch 4/200\n",
      "\u001b[1m782/782\u001b[0m \u001b[32m━━━━━━━━━━━━━━━━━━━━\u001b[0m\u001b[37m\u001b[0m \u001b[1m9s\u001b[0m 12ms/step - accuracy: 0.5299 - loss: 1.3326 - val_accuracy: 0.4849 - val_loss: 1.5084\n",
      "Epoch 5/200\n",
      "\u001b[1m782/782\u001b[0m \u001b[32m━━━━━━━━━━━━━━━━━━━━\u001b[0m\u001b[37m\u001b[0m \u001b[1m14s\u001b[0m 17ms/step - accuracy: 0.5609 - loss: 1.2494 - val_accuracy: 0.5057 - val_loss: 1.4224\n",
      "Epoch 6/200\n",
      "\u001b[1m782/782\u001b[0m \u001b[32m━━━━━━━━━━━━━━━━━━━━\u001b[0m\u001b[37m\u001b[0m \u001b[1m17s\u001b[0m 13ms/step - accuracy: 0.5905 - loss: 1.1738 - val_accuracy: 0.5179 - val_loss: 1.4378\n",
      "Epoch 7/200\n",
      "\u001b[1m782/782\u001b[0m \u001b[32m━━━━━━━━━━━━━━━━━━━━\u001b[0m\u001b[37m\u001b[0m \u001b[1m10s\u001b[0m 13ms/step - accuracy: 0.6098 - loss: 1.1194 - val_accuracy: 0.5191 - val_loss: 1.4638\n",
      "Epoch 8/200\n",
      "\u001b[1m782/782\u001b[0m \u001b[32m━━━━━━━━━━━━━━━━━━━━\u001b[0m\u001b[37m\u001b[0m \u001b[1m12s\u001b[0m 15ms/step - accuracy: 0.6272 - loss: 1.0716 - val_accuracy: 0.5165 - val_loss: 1.4659\n",
      "Epoch 9/200\n",
      "\u001b[1m782/782\u001b[0m \u001b[32m━━━━━━━━━━━━━━━━━━━━\u001b[0m\u001b[37m\u001b[0m \u001b[1m10s\u001b[0m 13ms/step - accuracy: 0.6415 - loss: 1.0326 - val_accuracy: 0.5196 - val_loss: 1.4702\n",
      "Epoch 10/200\n",
      "\u001b[1m782/782\u001b[0m \u001b[32m━━━━━━━━━━━━━━━━━━━━\u001b[0m\u001b[37m\u001b[0m \u001b[1m11s\u001b[0m 13ms/step - accuracy: 0.6590 - loss: 0.9807 - val_accuracy: 0.5170 - val_loss: 1.5572\n",
      "Epoch 11/200\n",
      "\u001b[1m782/782\u001b[0m \u001b[32m━━━━━━━━━━━━━━━━━━━━\u001b[0m\u001b[37m\u001b[0m \u001b[1m11s\u001b[0m 15ms/step - accuracy: 0.6664 - loss: 0.9550 - val_accuracy: 0.5172 - val_loss: 1.5483\n",
      "Epoch 12/200\n",
      "\u001b[1m782/782\u001b[0m \u001b[32m━━━━━━━━━━━━━━━━━━━━\u001b[0m\u001b[37m\u001b[0m \u001b[1m11s\u001b[0m 15ms/step - accuracy: 0.6773 - loss: 0.9220 - val_accuracy: 0.5185 - val_loss: 1.6025\n",
      "Epoch 13/200\n",
      "\u001b[1m782/782\u001b[0m \u001b[32m━━━━━━━━━━━━━━━━━━━━\u001b[0m\u001b[37m\u001b[0m \u001b[1m20s\u001b[0m 14ms/step - accuracy: 0.6933 - loss: 0.8828 - val_accuracy: 0.5137 - val_loss: 1.6539\n",
      "Epoch 14/200\n",
      "\u001b[1m782/782\u001b[0m \u001b[32m━━━━━━━━━━━━━━━━━━━━\u001b[0m\u001b[37m\u001b[0m \u001b[1m11s\u001b[0m 14ms/step - accuracy: 0.6995 - loss: 0.8651 - val_accuracy: 0.5038 - val_loss: 1.7716\n",
      "Epoch 15/200\n",
      "\u001b[1m782/782\u001b[0m \u001b[32m━━━━━━━━━━━━━━━━━━━━\u001b[0m\u001b[37m\u001b[0m \u001b[1m12s\u001b[0m 15ms/step - accuracy: 0.7100 - loss: 0.8317 - val_accuracy: 0.5090 - val_loss: 1.6905\n",
      "Epoch 16/200\n",
      "\u001b[1m782/782\u001b[0m \u001b[32m━━━━━━━━━━━━━━━━━━━━\u001b[0m\u001b[37m\u001b[0m \u001b[1m14s\u001b[0m 17ms/step - accuracy: 0.7152 - loss: 0.8196 - val_accuracy: 0.5135 - val_loss: 1.8270\n",
      "Epoch 17/200\n",
      "\u001b[1m782/782\u001b[0m \u001b[32m━━━━━━━━━━━━━━━━━━━━\u001b[0m\u001b[37m\u001b[0m \u001b[1m20s\u001b[0m 16ms/step - accuracy: 0.7239 - loss: 0.7936 - val_accuracy: 0.5088 - val_loss: 1.8885\n",
      "Epoch 18/200\n",
      "\u001b[1m782/782\u001b[0m \u001b[32m━━━━━━━━━━━━━━━━━━━━\u001b[0m\u001b[37m\u001b[0m \u001b[1m14s\u001b[0m 18ms/step - accuracy: 0.7285 - loss: 0.7832 - val_accuracy: 0.5010 - val_loss: 1.9090\n",
      "Epoch 19/200\n",
      "\u001b[1m782/782\u001b[0m \u001b[32m━━━━━━━━━━━━━━━━━━━━\u001b[0m\u001b[37m\u001b[0m \u001b[1m41s\u001b[0m 52ms/step - accuracy: 0.7357 - loss: 0.7562 - val_accuracy: 0.5152 - val_loss: 1.8414\n",
      "Epoch 20/200\n",
      "\u001b[1m782/782\u001b[0m \u001b[32m━━━━━━━━━━━━━━━━━━━━\u001b[0m\u001b[37m\u001b[0m \u001b[1m15s\u001b[0m 18ms/step - accuracy: 0.7444 - loss: 0.7337 - val_accuracy: 0.5046 - val_loss: 2.0022\n",
      "Epoch 21/200\n",
      "\u001b[1m782/782\u001b[0m \u001b[32m━━━━━━━━━━━━━━━━━━━━\u001b[0m\u001b[37m\u001b[0m \u001b[1m10s\u001b[0m 13ms/step - accuracy: 0.7509 - loss: 0.7153 - val_accuracy: 0.4998 - val_loss: 2.1444\n",
      "Epoch 22/200\n",
      "\u001b[1m782/782\u001b[0m \u001b[32m━━━━━━━━━━━━━━━━━━━━\u001b[0m\u001b[37m\u001b[0m \u001b[1m11s\u001b[0m 13ms/step - accuracy: 0.7589 - loss: 0.6897 - val_accuracy: 0.5016 - val_loss: 2.0635\n",
      "Epoch 23/200\n",
      "\u001b[1m782/782\u001b[0m \u001b[32m━━━━━━━━━━━━━━━━━━━━\u001b[0m\u001b[37m\u001b[0m \u001b[1m33s\u001b[0m 29ms/step - accuracy: 0.7595 - loss: 0.6949 - val_accuracy: 0.5054 - val_loss: 2.1141\n",
      "Epoch 24/200\n",
      "\u001b[1m782/782\u001b[0m \u001b[32m━━━━━━━━━━━━━━━━━━━━\u001b[0m\u001b[37m\u001b[0m \u001b[1m34s\u001b[0m 20ms/step - accuracy: 0.7616 - loss: 0.6848 - val_accuracy: 0.5000 - val_loss: 2.1133\n",
      "Epoch 25/200\n",
      "\u001b[1m782/782\u001b[0m \u001b[32m━━━━━━━━━━━━━━━━━━━━\u001b[0m\u001b[37m\u001b[0m \u001b[1m16s\u001b[0m 20ms/step - accuracy: 0.7720 - loss: 0.6567 - val_accuracy: 0.5081 - val_loss: 2.1403\n",
      "Epoch 26/200\n",
      "\u001b[1m782/782\u001b[0m \u001b[32m━━━━━━━━━━━━━━━━━━━━\u001b[0m\u001b[37m\u001b[0m \u001b[1m18s\u001b[0m 23ms/step - accuracy: 0.7770 - loss: 0.6359 - val_accuracy: 0.5015 - val_loss: 2.1394\n",
      "Epoch 27/200\n",
      "\u001b[1m782/782\u001b[0m \u001b[32m━━━━━━━━━━━━━━━━━━━━\u001b[0m\u001b[37m\u001b[0m \u001b[1m16s\u001b[0m 20ms/step - accuracy: 0.7835 - loss: 0.6194 - val_accuracy: 0.5006 - val_loss: 2.2923\n",
      "Epoch 28/200\n",
      "\u001b[1m782/782\u001b[0m \u001b[32m━━━━━━━━━━━━━━━━━━━━\u001b[0m\u001b[37m\u001b[0m \u001b[1m20s\u001b[0m 18ms/step - accuracy: 0.7814 - loss: 0.6335 - val_accuracy: 0.5008 - val_loss: 2.4131\n",
      "Epoch 29/200\n",
      "\u001b[1m782/782\u001b[0m \u001b[32m━━━━━━━━━━━━━━━━━━━━\u001b[0m\u001b[37m\u001b[0m \u001b[1m15s\u001b[0m 19ms/step - accuracy: 0.7842 - loss: 0.6211 - val_accuracy: 0.4900 - val_loss: 2.4571\n",
      "Epoch 30/200\n",
      "\u001b[1m782/782\u001b[0m \u001b[32m━━━━━━━━━━━━━━━━━━━━\u001b[0m\u001b[37m\u001b[0m \u001b[1m13s\u001b[0m 17ms/step - accuracy: 0.7940 - loss: 0.5948 - val_accuracy: 0.4999 - val_loss: 2.5307\n",
      "Epoch 31/200\n",
      "\u001b[1m782/782\u001b[0m \u001b[32m━━━━━━━━━━━━━━━━━━━━\u001b[0m\u001b[37m\u001b[0m \u001b[1m13s\u001b[0m 16ms/step - accuracy: 0.7990 - loss: 0.5818 - val_accuracy: 0.4974 - val_loss: 2.5096\n",
      "Epoch 32/200\n",
      "\u001b[1m782/782\u001b[0m \u001b[32m━━━━━━━━━━━━━━━━━━━━\u001b[0m\u001b[37m\u001b[0m \u001b[1m20s\u001b[0m 15ms/step - accuracy: 0.7956 - loss: 0.5876 - val_accuracy: 0.4918 - val_loss: 2.5864\n",
      "Epoch 33/200\n",
      "\u001b[1m782/782\u001b[0m \u001b[32m━━━━━━━━━━━━━━━━━━━━\u001b[0m\u001b[37m\u001b[0m \u001b[1m14s\u001b[0m 18ms/step - accuracy: 0.8007 - loss: 0.5732 - val_accuracy: 0.5005 - val_loss: 2.6250\n",
      "Epoch 34/200\n",
      "\u001b[1m782/782\u001b[0m \u001b[32m━━━━━━━━━━━━━━━━━━━━\u001b[0m\u001b[37m\u001b[0m \u001b[1m13s\u001b[0m 17ms/step - accuracy: 0.8032 - loss: 0.5708 - val_accuracy: 0.4970 - val_loss: 2.7962\n",
      "Epoch 35/200\n",
      "\u001b[1m782/782\u001b[0m \u001b[32m━━━━━━━━━━━━━━━━━━━━\u001b[0m\u001b[37m\u001b[0m \u001b[1m14s\u001b[0m 18ms/step - accuracy: 0.8138 - loss: 0.5370 - val_accuracy: 0.5050 - val_loss: 2.7537\n",
      "Epoch 36/200\n",
      "\u001b[1m782/782\u001b[0m \u001b[32m━━━━━━━━━━━━━━━━━━━━\u001b[0m\u001b[37m\u001b[0m \u001b[1m19s\u001b[0m 16ms/step - accuracy: 0.8087 - loss: 0.5459 - val_accuracy: 0.5014 - val_loss: 2.7521\n",
      "Epoch 37/200\n",
      "\u001b[1m782/782\u001b[0m \u001b[32m━━━━━━━━━━━━━━━━━━━━\u001b[0m\u001b[37m\u001b[0m \u001b[1m14s\u001b[0m 18ms/step - accuracy: 0.8101 - loss: 0.5466 - val_accuracy: 0.4946 - val_loss: 2.6610\n",
      "Epoch 38/200\n",
      "\u001b[1m782/782\u001b[0m \u001b[32m━━━━━━━━━━━━━━━━━━━━\u001b[0m\u001b[37m\u001b[0m \u001b[1m22s\u001b[0m 20ms/step - accuracy: 0.8158 - loss: 0.5260 - val_accuracy: 0.4944 - val_loss: 2.9302\n",
      "Epoch 39/200\n",
      "\u001b[1m782/782\u001b[0m \u001b[32m━━━━━━━━━━━━━━━━━━━━\u001b[0m\u001b[37m\u001b[0m \u001b[1m19s\u001b[0m 19ms/step - accuracy: 0.8174 - loss: 0.5254 - val_accuracy: 0.4837 - val_loss: 2.8436\n",
      "Epoch 40/200\n",
      "\u001b[1m782/782\u001b[0m \u001b[32m━━━━━━━━━━━━━━━━━━━━\u001b[0m\u001b[37m\u001b[0m \u001b[1m15s\u001b[0m 19ms/step - accuracy: 0.8119 - loss: 0.5365 - val_accuracy: 0.4968 - val_loss: 2.9066\n",
      "Epoch 41/200\n",
      "\u001b[1m782/782\u001b[0m \u001b[32m━━━━━━━━━━━━━━━━━━━━\u001b[0m\u001b[37m\u001b[0m \u001b[1m14s\u001b[0m 18ms/step - accuracy: 0.8173 - loss: 0.5362 - val_accuracy: 0.4940 - val_loss: 3.1102\n",
      "Epoch 42/200\n",
      "\u001b[1m782/782\u001b[0m \u001b[32m━━━━━━━━━━━━━━━━━━━━\u001b[0m\u001b[37m\u001b[0m \u001b[1m14s\u001b[0m 18ms/step - accuracy: 0.8164 - loss: 0.5308 - val_accuracy: 0.4934 - val_loss: 2.9009\n",
      "Epoch 43/200\n",
      "\u001b[1m782/782\u001b[0m \u001b[32m━━━━━━━━━━━━━━━━━━━━\u001b[0m\u001b[37m\u001b[0m \u001b[1m15s\u001b[0m 19ms/step - accuracy: 0.8214 - loss: 0.5123 - val_accuracy: 0.4838 - val_loss: 3.3347\n",
      "Epoch 44/200\n",
      "\u001b[1m782/782\u001b[0m \u001b[32m━━━━━━━━━━━━━━━━━━━━\u001b[0m\u001b[37m\u001b[0m \u001b[1m15s\u001b[0m 20ms/step - accuracy: 0.8225 - loss: 0.5078 - val_accuracy: 0.4945 - val_loss: 2.8554\n",
      "Epoch 45/200\n",
      "\u001b[1m782/782\u001b[0m \u001b[32m━━━━━━━━━━━━━━━━━━━━\u001b[0m\u001b[37m\u001b[0m \u001b[1m17s\u001b[0m 21ms/step - accuracy: 0.8281 - loss: 0.4923 - val_accuracy: 0.4939 - val_loss: 3.0521\n",
      "Epoch 46/200\n",
      "\u001b[1m782/782\u001b[0m \u001b[32m━━━━━━━━━━━━━━━━━━━━\u001b[0m\u001b[37m\u001b[0m \u001b[1m15s\u001b[0m 19ms/step - accuracy: 0.8334 - loss: 0.4794 - val_accuracy: 0.4812 - val_loss: 3.3958\n",
      "Epoch 47/200\n",
      "\u001b[1m782/782\u001b[0m \u001b[32m━━━━━━━━━━━━━━━━━━━━\u001b[0m\u001b[37m\u001b[0m \u001b[1m24s\u001b[0m 23ms/step - accuracy: 0.8344 - loss: 0.4808 - val_accuracy: 0.4911 - val_loss: 3.0888\n",
      "Epoch 48/200\n",
      "\u001b[1m782/782\u001b[0m \u001b[32m━━━━━━━━━━━━━━━━━━━━\u001b[0m\u001b[37m\u001b[0m \u001b[1m16s\u001b[0m 20ms/step - accuracy: 0.8310 - loss: 0.4894 - val_accuracy: 0.4814 - val_loss: 3.5428\n",
      "Epoch 49/200\n",
      "\u001b[1m782/782\u001b[0m \u001b[32m━━━━━━━━━━━━━━━━━━━━\u001b[0m\u001b[37m\u001b[0m \u001b[1m18s\u001b[0m 23ms/step - accuracy: 0.8318 - loss: 0.4794 - val_accuracy: 0.4790 - val_loss: 3.8392\n",
      "Epoch 50/200\n",
      "\u001b[1m782/782\u001b[0m \u001b[32m━━━━━━━━━━━━━━━━━━━━\u001b[0m\u001b[37m\u001b[0m \u001b[1m18s\u001b[0m 19ms/step - accuracy: 0.8300 - loss: 0.4873 - val_accuracy: 0.4945 - val_loss: 3.2497\n",
      "Epoch 51/200\n",
      "\u001b[1m782/782\u001b[0m \u001b[32m━━━━━━━━━━━━━━━━━━━━\u001b[0m\u001b[37m\u001b[0m \u001b[1m21s\u001b[0m 20ms/step - accuracy: 0.8336 - loss: 0.4741 - val_accuracy: 0.4903 - val_loss: 3.5628\n",
      "Epoch 52/200\n",
      "\u001b[1m782/782\u001b[0m \u001b[32m━━━━━━━━━━━━━━━━━━━━\u001b[0m\u001b[37m\u001b[0m \u001b[1m16s\u001b[0m 20ms/step - accuracy: 0.8382 - loss: 0.4581 - val_accuracy: 0.4880 - val_loss: 3.5116\n",
      "Epoch 53/200\n",
      "\u001b[1m782/782\u001b[0m \u001b[32m━━━━━━━━━━━━━━━━━━━━\u001b[0m\u001b[37m\u001b[0m \u001b[1m15s\u001b[0m 20ms/step - accuracy: 0.8416 - loss: 0.4521 - val_accuracy: 0.4877 - val_loss: 3.8223\n",
      "Epoch 54/200\n",
      "\u001b[1m782/782\u001b[0m \u001b[32m━━━━━━━━━━━━━━━━━━━━\u001b[0m\u001b[37m\u001b[0m \u001b[1m16s\u001b[0m 21ms/step - accuracy: 0.8438 - loss: 0.4439 - val_accuracy: 0.4872 - val_loss: 3.6096\n",
      "Epoch 55/200\n",
      "\u001b[1m782/782\u001b[0m \u001b[32m━━━━━━━━━━━━━━━━━━━━\u001b[0m\u001b[37m\u001b[0m \u001b[1m16s\u001b[0m 20ms/step - accuracy: 0.8411 - loss: 0.4575 - val_accuracy: 0.4925 - val_loss: 3.3471\n",
      "Epoch 56/200\n",
      "\u001b[1m782/782\u001b[0m \u001b[32m━━━━━━━━━━━━━━━━━━━━\u001b[0m\u001b[37m\u001b[0m \u001b[1m15s\u001b[0m 19ms/step - accuracy: 0.8404 - loss: 0.4556 - val_accuracy: 0.4885 - val_loss: 3.6340\n",
      "Epoch 57/200\n",
      "\u001b[1m782/782\u001b[0m \u001b[32m━━━━━━━━━━━━━━━━━━━━\u001b[0m\u001b[37m\u001b[0m \u001b[1m16s\u001b[0m 20ms/step - accuracy: 0.8483 - loss: 0.4395 - val_accuracy: 0.4849 - val_loss: 4.1230\n",
      "Epoch 58/200\n",
      "\u001b[1m782/782\u001b[0m \u001b[32m━━━━━━━━━━━━━━━━━━━━\u001b[0m\u001b[37m\u001b[0m \u001b[1m18s\u001b[0m 23ms/step - accuracy: 0.8492 - loss: 0.4389 - val_accuracy: 0.4754 - val_loss: 3.8694\n",
      "Epoch 59/200\n",
      "\u001b[1m782/782\u001b[0m \u001b[32m━━━━━━━━━━━━━━━━━━━━\u001b[0m\u001b[37m\u001b[0m \u001b[1m18s\u001b[0m 19ms/step - accuracy: 0.8566 - loss: 0.4128 - val_accuracy: 0.4840 - val_loss: 4.0420\n",
      "Epoch 60/200\n",
      "\u001b[1m782/782\u001b[0m \u001b[32m━━━━━━━━━━━━━━━━━━━━\u001b[0m\u001b[37m\u001b[0m \u001b[1m16s\u001b[0m 20ms/step - accuracy: 0.8508 - loss: 0.4209 - val_accuracy: 0.4819 - val_loss: 4.1775\n",
      "Epoch 61/200\n",
      "\u001b[1m782/782\u001b[0m \u001b[32m━━━━━━━━━━━━━━━━━━━━\u001b[0m\u001b[37m\u001b[0m \u001b[1m15s\u001b[0m 20ms/step - accuracy: 0.8499 - loss: 0.4302 - val_accuracy: 0.4807 - val_loss: 4.3941\n",
      "Epoch 62/200\n",
      "\u001b[1m782/782\u001b[0m \u001b[32m━━━━━━━━━━━━━━━━━━━━\u001b[0m\u001b[37m\u001b[0m \u001b[1m15s\u001b[0m 19ms/step - accuracy: 0.8455 - loss: 0.4479 - val_accuracy: 0.4777 - val_loss: 4.1800\n",
      "Epoch 63/200\n",
      "\u001b[1m782/782\u001b[0m \u001b[32m━━━━━━━━━━━━━━━━━━━━\u001b[0m\u001b[37m\u001b[0m \u001b[1m16s\u001b[0m 20ms/step - accuracy: 0.8576 - loss: 0.4096 - val_accuracy: 0.4807 - val_loss: 4.2245\n",
      "Epoch 64/200\n",
      "\u001b[1m782/782\u001b[0m \u001b[32m━━━━━━━━━━━━━━━━━━━━\u001b[0m\u001b[37m\u001b[0m \u001b[1m16s\u001b[0m 20ms/step - accuracy: 0.8553 - loss: 0.4175 - val_accuracy: 0.4817 - val_loss: 4.3657\n",
      "Epoch 65/200\n",
      "\u001b[1m782/782\u001b[0m \u001b[32m━━━━━━━━━━━━━━━━━━━━\u001b[0m\u001b[37m\u001b[0m \u001b[1m18s\u001b[0m 23ms/step - accuracy: 0.8506 - loss: 0.4246 - val_accuracy: 0.4725 - val_loss: 4.0356\n",
      "Epoch 66/200\n",
      "\u001b[1m782/782\u001b[0m \u001b[32m━━━━━━━━━━━━━━━━━━━━\u001b[0m\u001b[37m\u001b[0m \u001b[1m16s\u001b[0m 21ms/step - accuracy: 0.8541 - loss: 0.4247 - val_accuracy: 0.4762 - val_loss: 4.4067\n",
      "Epoch 67/200\n",
      "\u001b[1m782/782\u001b[0m \u001b[32m━━━━━━━━━━━━━━━━━━━━\u001b[0m\u001b[37m\u001b[0m \u001b[1m15s\u001b[0m 19ms/step - accuracy: 0.8541 - loss: 0.4159 - val_accuracy: 0.4709 - val_loss: 4.8383\n",
      "Epoch 68/200\n",
      "\u001b[1m782/782\u001b[0m \u001b[32m━━━━━━━━━━━━━━━━━━━━\u001b[0m\u001b[37m\u001b[0m \u001b[1m15s\u001b[0m 19ms/step - accuracy: 0.8598 - loss: 0.4036 - val_accuracy: 0.4833 - val_loss: 4.4303\n",
      "Epoch 69/200\n",
      "\u001b[1m782/782\u001b[0m \u001b[32m━━━━━━━━━━━━━━━━━━━━\u001b[0m\u001b[37m\u001b[0m \u001b[1m15s\u001b[0m 19ms/step - accuracy: 0.8581 - loss: 0.4130 - val_accuracy: 0.4784 - val_loss: 4.3198\n",
      "Epoch 70/200\n",
      "\u001b[1m782/782\u001b[0m \u001b[32m━━━━━━━━━━━━━━━━━━━━\u001b[0m\u001b[37m\u001b[0m \u001b[1m15s\u001b[0m 19ms/step - accuracy: 0.8539 - loss: 0.4146 - val_accuracy: 0.4798 - val_loss: 4.3956\n",
      "Epoch 71/200\n",
      "\u001b[1m782/782\u001b[0m \u001b[32m━━━━━━━━━━━━━━━━━━━━\u001b[0m\u001b[37m\u001b[0m \u001b[1m23s\u001b[0m 22ms/step - accuracy: 0.8608 - loss: 0.3988 - val_accuracy: 0.4805 - val_loss: 4.3038\n",
      "Epoch 72/200\n",
      "\u001b[1m782/782\u001b[0m \u001b[32m━━━━━━━━━━━━━━━━━━━━\u001b[0m\u001b[37m\u001b[0m \u001b[1m15s\u001b[0m 20ms/step - accuracy: 0.8624 - loss: 0.3976 - val_accuracy: 0.4799 - val_loss: 4.3973\n",
      "Epoch 73/200\n",
      "\u001b[1m782/782\u001b[0m \u001b[32m━━━━━━━━━━━━━━━━━━━━\u001b[0m\u001b[37m\u001b[0m \u001b[1m15s\u001b[0m 19ms/step - accuracy: 0.8611 - loss: 0.4066 - val_accuracy: 0.4708 - val_loss: 5.2011\n",
      "Epoch 74/200\n",
      "\u001b[1m782/782\u001b[0m \u001b[32m━━━━━━━━━━━━━━━━━━━━\u001b[0m\u001b[37m\u001b[0m \u001b[1m23s\u001b[0m 22ms/step - accuracy: 0.8645 - loss: 0.3949 - val_accuracy: 0.4799 - val_loss: 4.7159\n",
      "Epoch 75/200\n",
      "\u001b[1m782/782\u001b[0m \u001b[32m━━━━━━━━━━━━━━━━━━━━\u001b[0m\u001b[37m\u001b[0m \u001b[1m17s\u001b[0m 22ms/step - accuracy: 0.8662 - loss: 0.3804 - val_accuracy: 0.4776 - val_loss: 4.7619\n",
      "Epoch 76/200\n",
      "\u001b[1m782/782\u001b[0m \u001b[32m━━━━━━━━━━━━━━━━━━━━\u001b[0m\u001b[37m\u001b[0m \u001b[1m18s\u001b[0m 19ms/step - accuracy: 0.8542 - loss: 0.4242 - val_accuracy: 0.4791 - val_loss: 4.6975\n",
      "Epoch 77/200\n",
      "\u001b[1m782/782\u001b[0m \u001b[32m━━━━━━━━━━━━━━━━━━━━\u001b[0m\u001b[37m\u001b[0m \u001b[1m14s\u001b[0m 18ms/step - accuracy: 0.8582 - loss: 0.4050 - val_accuracy: 0.4653 - val_loss: 4.8972\n",
      "Epoch 78/200\n",
      "\u001b[1m782/782\u001b[0m \u001b[32m━━━━━━━━━━━━━━━━━━━━\u001b[0m\u001b[37m\u001b[0m \u001b[1m16s\u001b[0m 20ms/step - accuracy: 0.8590 - loss: 0.4085 - val_accuracy: 0.4790 - val_loss: 4.8445\n",
      "Epoch 79/200\n",
      "\u001b[1m782/782\u001b[0m \u001b[32m━━━━━━━━━━━━━━━━━━━━\u001b[0m\u001b[37m\u001b[0m \u001b[1m15s\u001b[0m 20ms/step - accuracy: 0.8681 - loss: 0.3751 - val_accuracy: 0.4827 - val_loss: 4.9298\n",
      "Epoch 80/200\n",
      "\u001b[1m782/782\u001b[0m \u001b[32m━━━━━━━━━━━━━━━━━━━━\u001b[0m\u001b[37m\u001b[0m \u001b[1m17s\u001b[0m 21ms/step - accuracy: 0.8684 - loss: 0.3750 - val_accuracy: 0.4715 - val_loss: 5.1531\n",
      "Epoch 81/200\n",
      "\u001b[1m782/782\u001b[0m \u001b[32m━━━━━━━━━━━━━━━━━━━━\u001b[0m\u001b[37m\u001b[0m \u001b[1m20s\u001b[0m 20ms/step - accuracy: 0.8662 - loss: 0.3861 - val_accuracy: 0.4812 - val_loss: 5.0935\n",
      "Epoch 82/200\n",
      "\u001b[1m782/782\u001b[0m \u001b[32m━━━━━━━━━━━━━━━━━━━━\u001b[0m\u001b[37m\u001b[0m \u001b[1m17s\u001b[0m 21ms/step - accuracy: 0.8711 - loss: 0.3754 - val_accuracy: 0.4739 - val_loss: 5.5197\n",
      "Epoch 83/200\n",
      "\u001b[1m782/782\u001b[0m \u001b[32m━━━━━━━━━━━━━━━━━━━━\u001b[0m\u001b[37m\u001b[0m \u001b[1m17s\u001b[0m 22ms/step - accuracy: 0.8697 - loss: 0.3767 - val_accuracy: 0.4763 - val_loss: 5.0086\n",
      "Epoch 84/200\n",
      "\u001b[1m782/782\u001b[0m \u001b[32m━━━━━━━━━━━━━━━━━━━━\u001b[0m\u001b[37m\u001b[0m \u001b[1m30s\u001b[0m 34ms/step - accuracy: 0.8632 - loss: 0.4019 - val_accuracy: 0.4802 - val_loss: 5.0605\n",
      "Epoch 85/200\n",
      "\u001b[1m782/782\u001b[0m \u001b[32m━━━━━━━━━━━━━━━━━━━━\u001b[0m\u001b[37m\u001b[0m \u001b[1m42s\u001b[0m 34ms/step - accuracy: 0.8701 - loss: 0.3734 - val_accuracy: 0.4749 - val_loss: 4.8305\n",
      "Epoch 86/200\n",
      "\u001b[1m782/782\u001b[0m \u001b[32m━━━━━━━━━━━━━━━━━━━━\u001b[0m\u001b[37m\u001b[0m \u001b[1m45s\u001b[0m 39ms/step - accuracy: 0.8710 - loss: 0.3682 - val_accuracy: 0.4761 - val_loss: 5.4092\n",
      "Epoch 87/200\n",
      "\u001b[1m782/782\u001b[0m \u001b[32m━━━━━━━━━━━━━━━━━━━━\u001b[0m\u001b[37m\u001b[0m \u001b[1m25s\u001b[0m 19ms/step - accuracy: 0.8645 - loss: 0.3913 - val_accuracy: 0.4637 - val_loss: 5.9226\n",
      "Epoch 88/200\n",
      "\u001b[1m782/782\u001b[0m \u001b[32m━━━━━━━━━━━━━━━━━━━━\u001b[0m\u001b[37m\u001b[0m \u001b[1m17s\u001b[0m 22ms/step - accuracy: 0.8649 - loss: 0.3891 - val_accuracy: 0.4798 - val_loss: 5.1862\n",
      "Epoch 89/200\n",
      "\u001b[1m782/782\u001b[0m \u001b[32m━━━━━━━━━━━━━━━━━━━━\u001b[0m\u001b[37m\u001b[0m \u001b[1m20s\u001b[0m 21ms/step - accuracy: 0.8712 - loss: 0.3748 - val_accuracy: 0.4798 - val_loss: 5.5164\n",
      "Epoch 90/200\n",
      "\u001b[1m782/782\u001b[0m \u001b[32m━━━━━━━━━━━━━━━━━━━━\u001b[0m\u001b[37m\u001b[0m \u001b[1m20s\u001b[0m 20ms/step - accuracy: 0.8751 - loss: 0.3537 - val_accuracy: 0.4784 - val_loss: 5.6863\n",
      "Epoch 91/200\n",
      "\u001b[1m782/782\u001b[0m \u001b[32m━━━━━━━━━━━━━━━━━━━━\u001b[0m\u001b[37m\u001b[0m \u001b[1m20s\u001b[0m 20ms/step - accuracy: 0.8748 - loss: 0.3651 - val_accuracy: 0.4753 - val_loss: 5.0428\n",
      "Epoch 92/200\n",
      "\u001b[1m782/782\u001b[0m \u001b[32m━━━━━━━━━━━━━━━━━━━━\u001b[0m\u001b[37m\u001b[0m \u001b[1m17s\u001b[0m 22ms/step - accuracy: 0.8707 - loss: 0.3616 - val_accuracy: 0.4765 - val_loss: 5.1328\n",
      "Epoch 93/200\n",
      "\u001b[1m782/782\u001b[0m \u001b[32m━━━━━━━━━━━━━━━━━━━━\u001b[0m\u001b[37m\u001b[0m \u001b[1m21s\u001b[0m 22ms/step - accuracy: 0.8814 - loss: 0.3414 - val_accuracy: 0.4787 - val_loss: 5.3790\n",
      "Epoch 94/200\n",
      "\u001b[1m782/782\u001b[0m \u001b[32m━━━━━━━━━━━━━━━━━━━━\u001b[0m\u001b[37m\u001b[0m \u001b[1m20s\u001b[0m 21ms/step - accuracy: 0.8787 - loss: 0.3475 - val_accuracy: 0.4817 - val_loss: 5.6798\n",
      "Epoch 95/200\n",
      "\u001b[1m782/782\u001b[0m \u001b[32m━━━━━━━━━━━━━━━━━━━━\u001b[0m\u001b[37m\u001b[0m \u001b[1m16s\u001b[0m 20ms/step - accuracy: 0.8703 - loss: 0.3748 - val_accuracy: 0.4763 - val_loss: 5.5181\n",
      "Epoch 96/200\n",
      "\u001b[1m782/782\u001b[0m \u001b[32m━━━━━━━━━━━━━━━━━━━━\u001b[0m\u001b[37m\u001b[0m \u001b[1m16s\u001b[0m 21ms/step - accuracy: 0.8703 - loss: 0.3822 - val_accuracy: 0.4727 - val_loss: 5.8023\n",
      "Epoch 97/200\n",
      "\u001b[1m782/782\u001b[0m \u001b[32m━━━━━━━━━━━━━━━━━━━━\u001b[0m\u001b[37m\u001b[0m \u001b[1m20s\u001b[0m 19ms/step - accuracy: 0.8634 - loss: 0.4102 - val_accuracy: 0.4749 - val_loss: 5.7588\n",
      "Epoch 98/200\n",
      "\u001b[1m782/782\u001b[0m \u001b[32m━━━━━━━━━━━━━━━━━━━━\u001b[0m\u001b[37m\u001b[0m \u001b[1m16s\u001b[0m 21ms/step - accuracy: 0.8814 - loss: 0.3357 - val_accuracy: 0.4758 - val_loss: 5.8597\n",
      "Epoch 99/200\n",
      "\u001b[1m782/782\u001b[0m \u001b[32m━━━━━━━━━━━━━━━━━━━━\u001b[0m\u001b[37m\u001b[0m \u001b[1m22s\u001b[0m 22ms/step - accuracy: 0.8808 - loss: 0.3461 - val_accuracy: 0.4753 - val_loss: 6.1600\n",
      "Epoch 100/200\n",
      "\u001b[1m782/782\u001b[0m \u001b[32m━━━━━━━━━━━━━━━━━━━━\u001b[0m\u001b[37m\u001b[0m \u001b[1m21s\u001b[0m 22ms/step - accuracy: 0.8774 - loss: 0.3660 - val_accuracy: 0.4660 - val_loss: 6.4120\n",
      "Epoch 101/200\n",
      "\u001b[1m782/782\u001b[0m \u001b[32m━━━━━━━━━━━━━━━━━━━━\u001b[0m\u001b[37m\u001b[0m \u001b[1m22s\u001b[0m 24ms/step - accuracy: 0.8796 - loss: 0.3438 - val_accuracy: 0.4776 - val_loss: 5.8506\n",
      "Epoch 102/200\n",
      "\u001b[1m782/782\u001b[0m \u001b[32m━━━━━━━━━━━━━━━━━━━━\u001b[0m\u001b[37m\u001b[0m \u001b[1m20s\u001b[0m 23ms/step - accuracy: 0.8801 - loss: 0.3465 - val_accuracy: 0.4822 - val_loss: 5.6530\n",
      "Epoch 103/200\n",
      "\u001b[1m782/782\u001b[0m \u001b[32m━━━━━━━━━━━━━━━━━━━━\u001b[0m\u001b[37m\u001b[0m \u001b[1m21s\u001b[0m 24ms/step - accuracy: 0.8822 - loss: 0.3413 - val_accuracy: 0.4846 - val_loss: 5.8815\n",
      "Epoch 104/200\n",
      "\u001b[1m782/782\u001b[0m \u001b[32m━━━━━━━━━━━━━━━━━━━━\u001b[0m\u001b[37m\u001b[0m \u001b[1m15s\u001b[0m 16ms/step - accuracy: 0.8822 - loss: 0.3426 - val_accuracy: 0.4707 - val_loss: 6.3493\n",
      "Epoch 105/200\n",
      "\u001b[1m782/782\u001b[0m \u001b[32m━━━━━━━━━━━━━━━━━━━━\u001b[0m\u001b[37m\u001b[0m \u001b[1m16s\u001b[0m 10ms/step - accuracy: 0.8809 - loss: 0.3389 - val_accuracy: 0.4811 - val_loss: 5.8741\n",
      "Epoch 106/200\n",
      "\u001b[1m782/782\u001b[0m \u001b[32m━━━━━━━━━━━━━━━━━━━━\u001b[0m\u001b[37m\u001b[0m \u001b[1m9s\u001b[0m 11ms/step - accuracy: 0.8736 - loss: 0.3659 - val_accuracy: 0.4754 - val_loss: 6.3349\n",
      "Epoch 107/200\n",
      "\u001b[1m782/782\u001b[0m \u001b[32m━━━━━━━━━━━━━━━━━━━━\u001b[0m\u001b[37m\u001b[0m \u001b[1m9s\u001b[0m 12ms/step - accuracy: 0.8818 - loss: 0.3467 - val_accuracy: 0.4741 - val_loss: 6.1082\n",
      "Epoch 108/200\n",
      "\u001b[1m782/782\u001b[0m \u001b[32m━━━━━━━━━━━━━━━━━━━━\u001b[0m\u001b[37m\u001b[0m \u001b[1m12s\u001b[0m 13ms/step - accuracy: 0.8795 - loss: 0.3481 - val_accuracy: 0.4774 - val_loss: 6.2402\n",
      "Epoch 109/200\n",
      "\u001b[1m782/782\u001b[0m \u001b[32m━━━━━━━━━━━━━━━━━━━━\u001b[0m\u001b[37m\u001b[0m \u001b[1m9s\u001b[0m 11ms/step - accuracy: 0.8828 - loss: 0.3304 - val_accuracy: 0.4794 - val_loss: 6.1786\n",
      "Epoch 110/200\n",
      "\u001b[1m782/782\u001b[0m \u001b[32m━━━━━━━━━━━━━━━━━━━━\u001b[0m\u001b[37m\u001b[0m \u001b[1m10s\u001b[0m 12ms/step - accuracy: 0.8797 - loss: 0.3466 - val_accuracy: 0.4716 - val_loss: 6.0004\n",
      "Epoch 111/200\n",
      "\u001b[1m782/782\u001b[0m \u001b[32m━━━━━━━━━━━━━━━━━━━━\u001b[0m\u001b[37m\u001b[0m \u001b[1m8s\u001b[0m 11ms/step - accuracy: 0.8800 - loss: 0.3416 - val_accuracy: 0.4772 - val_loss: 6.4466\n",
      "Epoch 112/200\n",
      "\u001b[1m782/782\u001b[0m \u001b[32m━━━━━━━━━━━━━━━━━━━━\u001b[0m\u001b[37m\u001b[0m \u001b[1m9s\u001b[0m 11ms/step - accuracy: 0.8736 - loss: 0.3664 - val_accuracy: 0.4708 - val_loss: 6.3526\n",
      "Epoch 113/200\n",
      "\u001b[1m782/782\u001b[0m \u001b[32m━━━━━━━━━━━━━━━━━━━━\u001b[0m\u001b[37m\u001b[0m \u001b[1m11s\u001b[0m 14ms/step - accuracy: 0.8888 - loss: 0.3280 - val_accuracy: 0.4711 - val_loss: 6.3751\n",
      "Epoch 114/200\n",
      "\u001b[1m782/782\u001b[0m \u001b[32m━━━━━━━━━━━━━━━━━━━━\u001b[0m\u001b[37m\u001b[0m \u001b[1m22s\u001b[0m 16ms/step - accuracy: 0.8897 - loss: 0.3170 - val_accuracy: 0.4700 - val_loss: 6.3874\n",
      "Epoch 115/200\n",
      "\u001b[1m782/782\u001b[0m \u001b[32m━━━━━━━━━━━━━━━━━━━━\u001b[0m\u001b[37m\u001b[0m \u001b[1m20s\u001b[0m 15ms/step - accuracy: 0.8844 - loss: 0.3319 - val_accuracy: 0.4837 - val_loss: 5.8826\n",
      "Epoch 116/200\n",
      "\u001b[1m782/782\u001b[0m \u001b[32m━━━━━━━━━━━━━━━━━━━━\u001b[0m\u001b[37m\u001b[0m \u001b[1m22s\u001b[0m 28ms/step - accuracy: 0.8801 - loss: 0.3455 - val_accuracy: 0.4713 - val_loss: 6.4322\n",
      "Epoch 117/200\n",
      "\u001b[1m782/782\u001b[0m \u001b[32m━━━━━━━━━━━━━━━━━━━━\u001b[0m\u001b[37m\u001b[0m \u001b[1m17s\u001b[0m 22ms/step - accuracy: 0.8813 - loss: 0.3491 - val_accuracy: 0.4656 - val_loss: 7.3167\n",
      "Epoch 118/200\n",
      "\u001b[1m782/782\u001b[0m \u001b[32m━━━━━━━━━━━━━━━━━━━━\u001b[0m\u001b[37m\u001b[0m \u001b[1m15s\u001b[0m 14ms/step - accuracy: 0.8827 - loss: 0.3408 - val_accuracy: 0.4722 - val_loss: 6.8054\n",
      "Epoch 119/200\n",
      "\u001b[1m782/782\u001b[0m \u001b[32m━━━━━━━━━━━━━━━━━━━━\u001b[0m\u001b[37m\u001b[0m \u001b[1m9s\u001b[0m 12ms/step - accuracy: 0.8928 - loss: 0.3099 - val_accuracy: 0.4753 - val_loss: 6.6991\n",
      "Epoch 120/200\n",
      "\u001b[1m782/782\u001b[0m \u001b[32m━━━━━━━━━━━━━━━━━━━━\u001b[0m\u001b[37m\u001b[0m \u001b[1m9s\u001b[0m 11ms/step - accuracy: 0.8795 - loss: 0.3477 - val_accuracy: 0.4769 - val_loss: 6.1367\n",
      "Epoch 121/200\n",
      "\u001b[1m782/782\u001b[0m \u001b[32m━━━━━━━━━━━━━━━━━━━━\u001b[0m\u001b[37m\u001b[0m \u001b[1m11s\u001b[0m 14ms/step - accuracy: 0.8949 - loss: 0.3108 - val_accuracy: 0.4721 - val_loss: 6.6686\n",
      "Epoch 122/200\n",
      "\u001b[1m782/782\u001b[0m \u001b[32m━━━━━━━━━━━━━━━━━━━━\u001b[0m\u001b[37m\u001b[0m \u001b[1m18s\u001b[0m 11ms/step - accuracy: 0.8829 - loss: 0.3434 - val_accuracy: 0.4749 - val_loss: 6.5390\n",
      "Epoch 123/200\n",
      "\u001b[1m782/782\u001b[0m \u001b[32m━━━━━━━━━━━━━━━━━━━━\u001b[0m\u001b[37m\u001b[0m \u001b[1m9s\u001b[0m 11ms/step - accuracy: 0.8884 - loss: 0.3259 - val_accuracy: 0.4836 - val_loss: 6.4325\n",
      "Epoch 124/200\n",
      "\u001b[1m782/782\u001b[0m \u001b[32m━━━━━━━━━━━━━━━━━━━━\u001b[0m\u001b[37m\u001b[0m \u001b[1m9s\u001b[0m 12ms/step - accuracy: 0.8882 - loss: 0.3206 - val_accuracy: 0.4743 - val_loss: 6.6786\n",
      "Epoch 125/200\n",
      "\u001b[1m782/782\u001b[0m \u001b[32m━━━━━━━━━━━━━━━━━━━━\u001b[0m\u001b[37m\u001b[0m \u001b[1m9s\u001b[0m 11ms/step - accuracy: 0.8898 - loss: 0.3181 - val_accuracy: 0.4793 - val_loss: 6.8467\n",
      "Epoch 126/200\n",
      "\u001b[1m782/782\u001b[0m \u001b[32m━━━━━━━━━━━━━━━━━━━━\u001b[0m\u001b[37m\u001b[0m \u001b[1m9s\u001b[0m 11ms/step - accuracy: 0.8829 - loss: 0.3488 - val_accuracy: 0.4679 - val_loss: 6.9117\n",
      "Epoch 127/200\n",
      "\u001b[1m782/782\u001b[0m \u001b[32m━━━━━━━━━━━━━━━━━━━━\u001b[0m\u001b[37m\u001b[0m \u001b[1m15s\u001b[0m 16ms/step - accuracy: 0.8925 - loss: 0.3117 - val_accuracy: 0.4793 - val_loss: 6.8065\n",
      "Epoch 128/200\n",
      "\u001b[1m782/782\u001b[0m \u001b[32m━━━━━━━━━━━━━━━━━━━━\u001b[0m\u001b[37m\u001b[0m \u001b[1m9s\u001b[0m 11ms/step - accuracy: 0.8951 - loss: 0.3048 - val_accuracy: 0.4755 - val_loss: 6.2940\n",
      "Epoch 129/200\n",
      "\u001b[1m782/782\u001b[0m \u001b[32m━━━━━━━━━━━━━━━━━━━━\u001b[0m\u001b[37m\u001b[0m \u001b[1m11s\u001b[0m 14ms/step - accuracy: 0.8811 - loss: 0.3514 - val_accuracy: 0.4727 - val_loss: 6.5599\n",
      "Epoch 130/200\n",
      "\u001b[1m782/782\u001b[0m \u001b[32m━━━━━━━━━━━━━━━━━━━━\u001b[0m\u001b[37m\u001b[0m \u001b[1m11s\u001b[0m 14ms/step - accuracy: 0.8908 - loss: 0.3185 - val_accuracy: 0.4681 - val_loss: 7.8318\n",
      "Epoch 131/200\n",
      "\u001b[1m782/782\u001b[0m \u001b[32m━━━━━━━━━━━━━━━━━━━━\u001b[0m\u001b[37m\u001b[0m \u001b[1m12s\u001b[0m 15ms/step - accuracy: 0.8888 - loss: 0.3248 - val_accuracy: 0.4729 - val_loss: 7.3798\n",
      "Epoch 132/200\n",
      "\u001b[1m782/782\u001b[0m \u001b[32m━━━━━━━━━━━━━━━━━━━━\u001b[0m\u001b[37m\u001b[0m \u001b[1m18s\u001b[0m 11ms/step - accuracy: 0.8936 - loss: 0.3172 - val_accuracy: 0.4695 - val_loss: 6.7608\n",
      "Epoch 133/200\n",
      "\u001b[1m782/782\u001b[0m \u001b[32m━━━━━━━━━━━━━━━━━━━━\u001b[0m\u001b[37m\u001b[0m \u001b[1m12s\u001b[0m 13ms/step - accuracy: 0.8917 - loss: 0.3156 - val_accuracy: 0.4712 - val_loss: 8.0721\n",
      "Epoch 134/200\n",
      "\u001b[1m782/782\u001b[0m \u001b[32m━━━━━━━━━━━━━━━━━━━━\u001b[0m\u001b[37m\u001b[0m \u001b[1m10s\u001b[0m 12ms/step - accuracy: 0.8907 - loss: 0.3279 - val_accuracy: 0.4764 - val_loss: 6.8893\n",
      "Epoch 135/200\n",
      "\u001b[1m782/782\u001b[0m \u001b[32m━━━━━━━━━━━━━━━━━━━━\u001b[0m\u001b[37m\u001b[0m \u001b[1m11s\u001b[0m 13ms/step - accuracy: 0.8925 - loss: 0.3125 - val_accuracy: 0.4762 - val_loss: 7.0204\n",
      "Epoch 136/200\n",
      "\u001b[1m782/782\u001b[0m \u001b[32m━━━━━━━━━━━━━━━━━━━━\u001b[0m\u001b[37m\u001b[0m \u001b[1m12s\u001b[0m 15ms/step - accuracy: 0.8888 - loss: 0.3237 - val_accuracy: 0.4836 - val_loss: 7.0717\n",
      "Epoch 137/200\n",
      "\u001b[1m782/782\u001b[0m \u001b[32m━━━━━━━━━━━━━━━━━━━━\u001b[0m\u001b[37m\u001b[0m \u001b[1m17s\u001b[0m 11ms/step - accuracy: 0.8886 - loss: 0.3281 - val_accuracy: 0.4697 - val_loss: 7.1784\n",
      "Epoch 138/200\n",
      "\u001b[1m782/782\u001b[0m \u001b[32m━━━━━━━━━━━━━━━━━━━━\u001b[0m\u001b[37m\u001b[0m \u001b[1m9s\u001b[0m 12ms/step - accuracy: 0.8816 - loss: 0.3558 - val_accuracy: 0.4730 - val_loss: 7.0373\n",
      "Epoch 139/200\n",
      "\u001b[1m782/782\u001b[0m \u001b[32m━━━━━━━━━━━━━━━━━━━━\u001b[0m\u001b[37m\u001b[0m \u001b[1m9s\u001b[0m 12ms/step - accuracy: 0.8915 - loss: 0.3211 - val_accuracy: 0.4713 - val_loss: 7.5604\n",
      "Epoch 140/200\n",
      "\u001b[1m782/782\u001b[0m \u001b[32m━━━━━━━━━━━━━━━━━━━━\u001b[0m\u001b[37m\u001b[0m \u001b[1m9s\u001b[0m 12ms/step - accuracy: 0.8895 - loss: 0.3235 - val_accuracy: 0.4614 - val_loss: 8.2512\n",
      "Epoch 141/200\n",
      "\u001b[1m782/782\u001b[0m \u001b[32m━━━━━━━━━━━━━━━━━━━━\u001b[0m\u001b[37m\u001b[0m \u001b[1m16s\u001b[0m 20ms/step - accuracy: 0.8912 - loss: 0.3106 - val_accuracy: 0.4770 - val_loss: 7.5271\n",
      "Epoch 142/200\n",
      "\u001b[1m782/782\u001b[0m \u001b[32m━━━━━━━━━━━━━━━━━━━━\u001b[0m\u001b[37m\u001b[0m \u001b[1m16s\u001b[0m 21ms/step - accuracy: 0.8976 - loss: 0.2956 - val_accuracy: 0.4666 - val_loss: 7.7365\n",
      "Epoch 143/200\n",
      "\u001b[1m782/782\u001b[0m \u001b[32m━━━━━━━━━━━━━━━━━━━━\u001b[0m\u001b[37m\u001b[0m \u001b[1m16s\u001b[0m 20ms/step - accuracy: 0.8895 - loss: 0.3249 - val_accuracy: 0.4665 - val_loss: 8.5947\n",
      "Epoch 144/200\n",
      "\u001b[1m782/782\u001b[0m \u001b[32m━━━━━━━━━━━━━━━━━━━━\u001b[0m\u001b[37m\u001b[0m \u001b[1m16s\u001b[0m 20ms/step - accuracy: 0.8845 - loss: 0.3543 - val_accuracy: 0.4679 - val_loss: 7.3855\n",
      "Epoch 145/200\n",
      "\u001b[1m782/782\u001b[0m \u001b[32m━━━━━━━━━━━━━━━━━━━━\u001b[0m\u001b[37m\u001b[0m \u001b[1m21s\u001b[0m 20ms/step - accuracy: 0.8910 - loss: 0.3180 - val_accuracy: 0.4738 - val_loss: 7.6665\n",
      "Epoch 146/200\n",
      "\u001b[1m782/782\u001b[0m \u001b[32m━━━━━━━━━━━━━━━━━━━━\u001b[0m\u001b[37m\u001b[0m \u001b[1m19s\u001b[0m 24ms/step - accuracy: 0.8983 - loss: 0.2889 - val_accuracy: 0.4785 - val_loss: 7.5509\n",
      "Epoch 147/200\n",
      "\u001b[1m782/782\u001b[0m \u001b[32m━━━━━━━━━━━━━━━━━━━━\u001b[0m\u001b[37m\u001b[0m \u001b[1m19s\u001b[0m 24ms/step - accuracy: 0.8949 - loss: 0.3168 - val_accuracy: 0.4710 - val_loss: 8.0635\n",
      "Epoch 148/200\n",
      "\u001b[1m782/782\u001b[0m \u001b[32m━━━━━━━━━━━━━━━━━━━━\u001b[0m\u001b[37m\u001b[0m \u001b[1m19s\u001b[0m 21ms/step - accuracy: 0.8986 - loss: 0.2983 - val_accuracy: 0.4781 - val_loss: 7.3045\n",
      "Epoch 149/200\n",
      "\u001b[1m782/782\u001b[0m \u001b[32m━━━━━━━━━━━━━━━━━━━━\u001b[0m\u001b[37m\u001b[0m \u001b[1m17s\u001b[0m 21ms/step - accuracy: 0.8928 - loss: 0.3087 - val_accuracy: 0.4773 - val_loss: 8.1733\n",
      "Epoch 150/200\n",
      "\u001b[1m782/782\u001b[0m \u001b[32m━━━━━━━━━━━━━━━━━━━━\u001b[0m\u001b[37m\u001b[0m \u001b[1m16s\u001b[0m 20ms/step - accuracy: 0.8859 - loss: 0.3410 - val_accuracy: 0.4763 - val_loss: 8.0619\n",
      "Epoch 151/200\n",
      "\u001b[1m782/782\u001b[0m \u001b[32m━━━━━━━━━━━━━━━━━━━━\u001b[0m\u001b[37m\u001b[0m \u001b[1m19s\u001b[0m 24ms/step - accuracy: 0.8930 - loss: 0.3134 - val_accuracy: 0.4751 - val_loss: 7.6887\n",
      "Epoch 152/200\n",
      "\u001b[1m782/782\u001b[0m \u001b[32m━━━━━━━━━━━━━━━━━━━━\u001b[0m\u001b[37m\u001b[0m \u001b[1m19s\u001b[0m 24ms/step - accuracy: 0.8961 - loss: 0.3005 - val_accuracy: 0.4772 - val_loss: 7.9660\n",
      "Epoch 153/200\n",
      "\u001b[1m782/782\u001b[0m \u001b[32m━━━━━━━━━━━━━━━━━━━━\u001b[0m\u001b[37m\u001b[0m \u001b[1m27s\u001b[0m 32ms/step - accuracy: 0.8953 - loss: 0.3104 - val_accuracy: 0.4644 - val_loss: 8.8740\n",
      "Epoch 154/200\n"
     ]
    },
    {
     "ename": "KeyboardInterrupt",
     "evalue": "",
     "output_type": "error",
     "traceback": [
      "\u001b[31m---------------------------------------------------------------------------\u001b[39m",
      "\u001b[31mKeyboardInterrupt\u001b[39m                         Traceback (most recent call last)",
      "\u001b[36mCell\u001b[39m\u001b[36m \u001b[39m\u001b[32mIn[46]\u001b[39m\u001b[32m, line 10\u001b[39m\n\u001b[32m      6\u001b[39m model.add(Dense(units = \u001b[32m10\u001b[39m, activation = \u001b[33m'\u001b[39m\u001b[33msoftmax\u001b[39m\u001b[33m'\u001b[39m))\n\u001b[32m      8\u001b[39m model.compile(optimizer=\u001b[33m'\u001b[39m\u001b[33madam\u001b[39m\u001b[33m'\u001b[39m, loss = \u001b[33m'\u001b[39m\u001b[33mcategorical_crossentropy\u001b[39m\u001b[33m'\u001b[39m, metrics=[\u001b[33m'\u001b[39m\u001b[33maccuracy\u001b[39m\u001b[33m'\u001b[39m])\n\u001b[32m---> \u001b[39m\u001b[32m10\u001b[39m result = \u001b[43mmodel\u001b[49m\u001b[43m.\u001b[49m\u001b[43mfit\u001b[49m\u001b[43m(\u001b[49m\u001b[43mX_train\u001b[49m\u001b[43m,\u001b[49m\u001b[43my_train\u001b[49m\u001b[43m,\u001b[49m\u001b[43mepochs\u001b[49m\u001b[43m=\u001b[49m\u001b[32;43m200\u001b[39;49m\u001b[43m,\u001b[49m\u001b[43mbatch_size\u001b[49m\u001b[43m=\u001b[49m\u001b[32;43m64\u001b[39;49m\u001b[43m,\u001b[49m\u001b[43m \u001b[49m\u001b[43mvalidation_data\u001b[49m\u001b[43m=\u001b[49m\u001b[43m \u001b[49m\u001b[43m(\u001b[49m\u001b[43mX_test\u001b[49m\u001b[43m,\u001b[49m\u001b[43my_test\u001b[49m\u001b[43m)\u001b[49m\u001b[43m)\u001b[49m\n\u001b[32m     12\u001b[39m loss , accuracy = model.evaluate(X_test,y_test)\n\u001b[32m     13\u001b[39m \u001b[38;5;28mprint\u001b[39m(\u001b[33mf\u001b[39m\u001b[33m\"\u001b[39m\u001b[33mtest accuracy:\u001b[39m\u001b[38;5;132;01m{\u001b[39;00maccuracy\u001b[38;5;132;01m}\u001b[39;00m\u001b[33m, test loss: \u001b[39m\u001b[38;5;132;01m{\u001b[39;00mloss\u001b[38;5;132;01m}\u001b[39;00m\u001b[33m \u001b[39m\u001b[33m\"\u001b[39m)\n",
      "\u001b[36mFile \u001b[39m\u001b[32md:\\22EG107C44\\venv\\Lib\\site-packages\\keras\\src\\utils\\traceback_utils.py:117\u001b[39m, in \u001b[36mfilter_traceback.<locals>.error_handler\u001b[39m\u001b[34m(*args, **kwargs)\u001b[39m\n\u001b[32m    115\u001b[39m filtered_tb = \u001b[38;5;28;01mNone\u001b[39;00m\n\u001b[32m    116\u001b[39m \u001b[38;5;28;01mtry\u001b[39;00m:\n\u001b[32m--> \u001b[39m\u001b[32m117\u001b[39m     \u001b[38;5;28;01mreturn\u001b[39;00m \u001b[43mfn\u001b[49m\u001b[43m(\u001b[49m\u001b[43m*\u001b[49m\u001b[43margs\u001b[49m\u001b[43m,\u001b[49m\u001b[43m \u001b[49m\u001b[43m*\u001b[49m\u001b[43m*\u001b[49m\u001b[43mkwargs\u001b[49m\u001b[43m)\u001b[49m\n\u001b[32m    118\u001b[39m \u001b[38;5;28;01mexcept\u001b[39;00m \u001b[38;5;167;01mException\u001b[39;00m \u001b[38;5;28;01mas\u001b[39;00m e:\n\u001b[32m    119\u001b[39m     filtered_tb = _process_traceback_frames(e.__traceback__)\n",
      "\u001b[36mFile \u001b[39m\u001b[32md:\\22EG107C44\\venv\\Lib\\site-packages\\keras\\src\\backend\\tensorflow\\trainer.py:376\u001b[39m, in \u001b[36mTensorFlowTrainer.fit\u001b[39m\u001b[34m(self, x, y, batch_size, epochs, verbose, callbacks, validation_split, validation_data, shuffle, class_weight, sample_weight, initial_epoch, steps_per_epoch, validation_steps, validation_batch_size, validation_freq)\u001b[39m\n\u001b[32m    374\u001b[39m \u001b[38;5;28;01mwith\u001b[39;00m epoch_iterator.catch_stop_iteration():\n\u001b[32m    375\u001b[39m     \u001b[38;5;28;01mfor\u001b[39;00m step, iterator \u001b[38;5;129;01min\u001b[39;00m epoch_iterator:\n\u001b[32m--> \u001b[39m\u001b[32m376\u001b[39m         \u001b[43mcallbacks\u001b[49m\u001b[43m.\u001b[49m\u001b[43mon_train_batch_begin\u001b[49m\u001b[43m(\u001b[49m\u001b[43mstep\u001b[49m\u001b[43m)\u001b[49m\n\u001b[32m    377\u001b[39m         logs = \u001b[38;5;28mself\u001b[39m.train_function(iterator)\n\u001b[32m    378\u001b[39m         callbacks.on_train_batch_end(step, logs)\n",
      "\u001b[36mFile \u001b[39m\u001b[32md:\\22EG107C44\\venv\\Lib\\site-packages\\keras\\src\\callbacks\\callback_list.py:147\u001b[39m, in \u001b[36mCallbackList.on_train_batch_begin\u001b[39m\u001b[34m(self, batch, logs)\u001b[39m\n\u001b[32m    144\u001b[39m     \u001b[38;5;28;01mfor\u001b[39;00m callback \u001b[38;5;129;01min\u001b[39;00m \u001b[38;5;28mself\u001b[39m.callbacks:\n\u001b[32m    145\u001b[39m         callback.on_epoch_end(epoch, logs)\n\u001b[32m--> \u001b[39m\u001b[32m147\u001b[39m \u001b[38;5;28;01mdef\u001b[39;00m\u001b[38;5;250m \u001b[39m\u001b[34mon_train_batch_begin\u001b[39m(\u001b[38;5;28mself\u001b[39m, batch, logs=\u001b[38;5;28;01mNone\u001b[39;00m):\n\u001b[32m    148\u001b[39m     logs = python_utils.pythonify_logs(logs)\n\u001b[32m    149\u001b[39m     \u001b[38;5;28;01mfor\u001b[39;00m callback \u001b[38;5;129;01min\u001b[39;00m \u001b[38;5;28mself\u001b[39m.callbacks:\n",
      "\u001b[31mKeyboardInterrupt\u001b[39m: "
     ]
    }
   ],
   "source": [
    "model = Sequential()\n",
    "model.add(Conv2D(8,(3,3),activation = 'relu'))\n",
    "model.add(MaxPooling2D((2,2)))\n",
    "model.add(Flatten(input_shape=(32,32,3)))\n",
    "model.add(Dense(units = 128, activation =  'relu'))\n",
    "model.add(Dense(units = 10, activation = 'softmax'))\n",
    "\n",
    "model.compile(optimizer='adam', loss = 'categorical_crossentropy', metrics=['accuracy'])\n",
    "\n",
    "result = model.fit(X_train,y_train,epochs=200,batch_size=64, validation_data= (X_test,y_test))\n",
    "\n",
    "loss , accuracy = model.evaluate(X_test,y_test)\n",
    "print(f\"test accuracy:{accuracy}, test loss: {loss} \")\n"
   ]
  },
  {
   "cell_type": "code",
   "execution_count": null,
   "id": "0746b712",
   "metadata": {},
   "outputs": [],
   "source": [
    "plt.figure(20,10)\n",
    "plt.subplot(1,2,1)\n",
    "plt.plot(result.history['accuracy'],label='Train accuracy', color='blue')\n",
    "plt.plot(result.history['val_accuracy'], label='test accuracy',color ='red')\n",
    "plt.legend()\n",
    "plt.title(\"Epoch Vs Accuracy on train and test data\")\n",
    "\n",
    "plt.subplot(1,2,2)\n",
    "plt.plot(result.history['loss'],label='Train loss', color='blue')\n",
    "plt.plot(result.history['val_loss'], label='test loss',color='red')\n",
    "plt.legend()\n",
    "plt.title(\"Epoch Vs Loss on train and test data\")\n",
    "plt.show()\n"
   ]
  },
  {
   "cell_type": "markdown",
   "id": "682f2cf9",
   "metadata": {},
   "source": [
    "## Experiment 3"
   ]
  },
  {
   "cell_type": "markdown",
   "id": "05e6a2b7",
   "metadata": {},
   "source": [
    "Analysis: \n",
    "    Training is very slow\n",
    "    So, increase the no of layers\n"
   ]
  },
  {
   "cell_type": "markdown",
   "id": "1fe919d7",
   "metadata": {},
   "source": []
  },
  {
   "cell_type": "code",
   "execution_count": null,
   "id": "96db0910",
   "metadata": {},
   "outputs": [],
   "source": [
    "model = Sequential()\n",
    "model.add(Conv2D(32,(3,3),activation = 'relu'))\n",
    "model.add(MaxPooling2D((2,2)))\n",
    "\n",
    "model.add(Conv2D(16,(3,3),activation = 'relu'))\n",
    "model.add(MaxPooling2D((2,2)))\n",
    "\n",
    "model.add(Flatten(input_shape=(32,32,3)))\n",
    "model.add(Dense(units = 512, activation =  'relu'))\n",
    "model.add(Dense(units = 128, activation =  'relu'))\n",
    "model.add(Dense(units = 10, activation = 'softmax'))\n",
    "\n",
    "model.compile(optimizer='adam', loss = 'categorical_crossentropy', metrics=['accuracy'])\n",
    "\n",
    "result = model.fit(X_train,y_train,epochs=50,batch_size=64, validation_data= (X_test,y_test))\n",
    "\n",
    "loss , accuracy = model.evaluate(X_test,y_test)\n",
    "print(f\"test accuracy:{accuracy}, test loss: {loss} \")"
   ]
  },
  {
   "cell_type": "code",
   "execution_count": null,
   "id": "5730b6ed",
   "metadata": {},
   "outputs": [],
   "source": []
  }
 ],
 "metadata": {
  "kernelspec": {
   "display_name": "venv (3.12.4)",
   "language": "python",
   "name": "python3"
  },
  "language_info": {
   "codemirror_mode": {
    "name": "ipython",
    "version": 3
   },
   "file_extension": ".py",
   "mimetype": "text/x-python",
   "name": "python",
   "nbconvert_exporter": "python",
   "pygments_lexer": "ipython3",
   "version": "3.12.4"
  }
 },
 "nbformat": 4,
 "nbformat_minor": 5
}
